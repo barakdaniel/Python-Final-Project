{
 "metadata": {
  "language_info": {
   "codemirror_mode": {
    "name": "ipython",
    "version": 3
   },
   "file_extension": ".py",
   "mimetype": "text/x-python",
   "name": "python",
   "nbconvert_exporter": "python",
   "pygments_lexer": "ipython3",
   "version": "3.8.5-final"
  },
  "orig_nbformat": 2,
  "kernelspec": {
   "name": "python3",
   "display_name": "Python 3",
   "language": "python"
  }
 },
 "nbformat": 4,
 "nbformat_minor": 2,
 "cells": [
  {
   "source": [
    "# Python Scientific Data Analysis\n",
    "## Course's Final Project\n",
    "### Barak Daniel - 204594329"
   ],
   "cell_type": "markdown",
   "metadata": {}
  },
  {
   "source": [
    "## Installations needed for the program to run:"
   ],
   "cell_type": "markdown",
   "metadata": {}
  },
  {
   "cell_type": "code",
   "execution_count": null,
   "metadata": {},
   "outputs": [],
   "source": [
    "#!pip install numpy\n",
    "#!pip install pandas\n",
    "#!pip install seaborn\n",
    "#!pip install matplotlib\n",
    "#!pip install seaborn\n",
    "#!pip install sklearn\n",
    "#!pip install scipy\n",
    "#!pip install pydotplus\n",
    "\n",
    "import numpy as np\n",
    "import matplotlib.pyplot as plt\n",
    "import seaborn as sns\n",
    "import pandas as pd\n",
    "from sklearn.naive_bayes import GaussianNB\n",
    "import sklearn as skl\n",
    "from sklearn.model_selection import train_test_split\n",
    "from sklearn import metrics\n",
    "import pydotplus"
   ]
  },
  {
   "source": [
    "# Intro\n",
    "\n",
    "### Overview\n",
    "This project is about targetted marketing, in the data set given we have 'customer' as each row of data, and the features can tell us about the customer's status in general (age, marriage, etc..) and hes shopping behavior.\n",
    "In this section of the project I will go over the data set and the goal to try and understand the whole process before starting the actual work on the data.\n",
    "\n",
    "### So what exactly is targetted marketing?\n",
    "Targeting in marketing is a strategy that breaks a large market into smaller segments to concentrate on a specific group of customers within that audience. It defines a segment of customers based on their unique characteristics and focuses solely on serving them.\n",
    "Instead of trying to reach an entire market, a brand uses target marketing to put their energy into connecting with a specific, defined group within that market.\n",
    "So for this reason I'll break down all the features in the given dataset ('customers3.csv'), and understand them.\n",
    "\n",
    "\n",
    "### Feature's data breadown\n",
    "The following features are included in the data set given in 'customes3.csv':\n",
    "- ID - Unique ID to each customer\n",
    "- Gender - The gender of the customer\n",
    "- Ever_Marries - Indicates if the customer was married\n",
    "- Age - The age of the customer\n",
    "- Graduated - Has the customer graduated high school\n",
    "- Profession - The profession of the customer\n",
    "- Work_Experience - The number of years of the customer's expirence in his profession\n",
    "- Spending_Score - The spending habits of the customer classified to 3 categories\n",
    "- Family_Size - The number of family members the customer has in his household\n",
    "- Shop_Day - The day of the week which the customer is shopping on the most\n",
    "- Shop_Other - Normalized measure of customer deviation from average store customer spending on non specified products\n",
    "- Shop_Dairy - Normalized measure of customer deviation from average store customer spending on dairy products\n",
    "- Shop_Household: Normalized measure of customer deviation from average store customer spending on household products\n",
    "- Shop_Meat - Normalized measure of customer deviation from average store customer spending on meat products\n",
    "- Group - The target group which the customer belongs to\n",
    "\n",
    "### Feature's type breakdown\n",
    "- ID - Numerical discrete (Integer)\n",
    "- Gender - Categorical (Male/Female)\n",
    "- Ever_Marries - Categorical nominal (Yes/No)\n",
    "- Age - Numerical continuous (Integer)\n",
    "- Graduated - Categorical (Yes/No)\n",
    "- Profession - Categorical nominal\n",
    "- Work_Experience - Numerical discrete (Integer)\n",
    "- Spending_Score - Categorical ordinal (Low/average/High)\n",
    "- Family_Size - Numerical discrete (Integer)\n",
    "- Shop_Day - Categorical ordinal (Sunday, Monday, ..., Saturday)\n",
    "- Shop_Other - Numerical continuous (Double)\n",
    "- Shop_Dair - Numerical continuous (Double)\n",
    "- Shop_Household - Numerical continuous (Double)\n",
    "- Shop_Meat -Numerical continuous (Double)\n",
    "- Group - Categorical nominal"
   ],
   "cell_type": "markdown",
   "metadata": {}
  },
  {
   "cell_type": "code",
   "execution_count": null,
   "metadata": {},
   "outputs": [],
   "source": [
    "df = pd.read_csv('customers3.csv')\n",
    "count = df.count()\n",
    "\n",
    "print(\"The number of rows is: {}\".format(len(df.index)))\n",
    "print(\"The number of columns is: {}\".format(len(df.columns)))\n",
    "print(\"The number of cells is: {}\".format(len(df.index) * len(df.columns)))\n",
    "print(\"The number of cells with concrete values is: {}\".format(count.sum()))\n",
    "print(\"The number of cells without concrete values is: {}\\n\".format(len(df.index) * len(df.columns) - count.sum()))\n",
    "\n",
    "print(\"\\nThe number of concrete values for each feature:\")\n",
    "df.count()\n"
   ]
  },
  {
   "source": [
    "### The size of the data set is:\n",
    "- 8120 rows of customer's data (+1 for the headers of each column)\n",
    "- 15 columns for the features\n",
    "- 8120*15 = 121,8000 cells, but we can see that not all of them has concrete values.\n",
    "\n",
    "### Missing values:\n",
    "After watching the dataset and trying to understand it, I have also encountered many cells with missing data values.\n",
    "After reading the dataset a transformation of this Nan values is needed, for each feature with missing data, I'll examine it and understand which of the methods is the best to deal with those values (Mode, Mean, Median, Removal, etc..)."
   ],
   "cell_type": "markdown",
   "metadata": {}
  }
 ]
}